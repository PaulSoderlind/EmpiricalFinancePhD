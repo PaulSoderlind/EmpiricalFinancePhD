{
 "cells": [
  {
   "cell_type": "markdown",
   "metadata": {},
   "source": [
    "# The Delta Method and the NW Covariance Matrix\n"
   ]
  },
  {
   "cell_type": "markdown",
   "metadata": {},
   "source": [
    "## Load Packages and Extra Functions"
   ]
  },
  {
   "cell_type": "code",
   "execution_count": 1,
   "metadata": {},
   "outputs": [
    {
     "data": {
      "text/plain": [
       "printyellow (generic function with 1 method)"
      ]
     },
     "execution_count": 1,
     "metadata": {},
     "output_type": "execute_result"
    }
   ],
   "source": [
    "using Printf, DelimitedFiles, Statistics, LinearAlgebra\n",
    "\n",
    "include(\"jlFiles/printmat.jl\")"
   ]
  },
  {
   "cell_type": "markdown",
   "metadata": {},
   "source": [
    "# The Delta Method Applied to the Sharpe Ratio"
   ]
  },
  {
   "cell_type": "markdown",
   "metadata": {},
   "source": [
    "## Load Data"
   ]
  },
  {
   "cell_type": "code",
   "execution_count": 2,
   "metadata": {},
   "outputs": [
    {
     "data": {
      "text/plain": [
       "388"
      ]
     },
     "execution_count": 2,
     "metadata": {},
     "output_type": "execute_result"
    }
   ],
   "source": [
    "x  = readdlm(\"Data/FFmFactorsPs.csv\",',',skipstart=1)\n",
    "x  = x[:,2]              #x is an excess return in % (on the US equity market)\n",
    "T  = size(x,1)"
   ]
  },
  {
   "cell_type": "markdown",
   "metadata": {},
   "source": [
    "## Point Estimates of Mean and 2nd Moment\n",
    "\n",
    "Estimate the mean and second moment as usual \n",
    "\n",
    "$\n",
    "\\hat{\\mu}   =\\frac{1}{T}\\sum_{t=1}^{T}x_{t}\n",
    "$\n",
    "\n",
    "$\n",
    "\\hat{\\mu}_{2}  =\\frac{1}{T}\\sum_{t=1}^{T}x_{t}^{2}\n",
    "$"
   ]
  },
  {
   "cell_type": "code",
   "execution_count": 3,
   "metadata": {},
   "outputs": [
    {
     "name": "stdout",
     "output_type": "stream",
     "text": [
      "\u001b[34m\u001b[1mmean and 2nd moment:\u001b[22m\u001b[39m\n",
      "μ      0.602\n",
      "μ₂    21.505\n",
      "\n"
     ]
    }
   ],
   "source": [
    "μ   = mean(x)                  #estimates of the mean and 2nd moment\n",
    "μ₂  = mean(abs2,x)             #or mean(x.^2)\n",
    "\n",
    "printblue(\"mean and 2nd moment:\")\n",
    "momNames = [\"μ\",\"μ₂\"]\n",
    "printmat([μ,μ₂];rowNames=momNames)"
   ]
  },
  {
   "cell_type": "markdown",
   "metadata": {},
   "source": [
    "The next cell constructs the variance-covariance matrix (called $V$) of the point estimates (collected into a vector $\\hat{\\beta}$). Recall that we typically have that\n",
    "\n",
    "$\n",
    "\\sqrt{T}(\\hat{\\beta}-\\beta_{0})\\overset{d}{\\rightarrow}N(0,V_{k\\times k})\n",
    "$\n",
    "\n",
    "$V$ is constructed by using the usual GMM properties (discussed in detail later on). For now, you could just run the next cell without checking the details."
   ]
  },
  {
   "cell_type": "code",
   "execution_count": 4,
   "metadata": {},
   "outputs": [
    {
     "name": "stdout",
     "output_type": "stream",
     "text": [
      "\u001b[34m\u001b[1mSample moment conditions, gbar: \u001b[22m\u001b[39m\n",
      "g₁     0.000\n",
      "g₂     0.000\n",
      "\n",
      "\u001b[34m\u001b[1mCov(params):\u001b[22m\u001b[39m\n",
      "           μ        μ₂\n",
      "μ      0.055    -0.138\n",
      "μ₂    -0.138     4.643\n",
      "\n"
     ]
    }
   ],
   "source": [
    "g    = [(x .- μ) (x.^2 .- μ₂)]    #moment conditions\n",
    "T    = size(g,1)\n",
    "gbar = vec(mean(g,dims=1))\n",
    "\n",
    "printblue(\"Sample moment conditions, gbar: \")\n",
    "printmat(gbar,rowNames=[\"g₁\",\"g₂\"])\n",
    "\n",
    "S = cov(g)                        #Var[sqrt(T)*gbar] = var(g) if iid \n",
    "#S = NWFn(g,1)                    #to use Newey-West instead, defined below\n",
    "\n",
    "D = -I(2)                         #-I(2)\n",
    "V = inv(D*inv(S)*D')              #Var[sqrt(T)*(mu,μ₂)]\n",
    "\n",
    "printblue(\"Cov(params):\")\n",
    "printmat(V/T;rowNames=momNames,colNames=momNames)"
   ]
  },
  {
   "cell_type": "markdown",
   "metadata": {},
   "source": [
    "## The Sharpe Ratio and Its Derivatives\n",
    "\n",
    "The Sharpe ratio and its derivatives (with respect to the parameters of the\n",
    "Sharpe ratio) are\n",
    "\n",
    "$\n",
    "\\frac{\\text{E}(x)}{\\sigma(x)}  =\\frac{\\mu}{(\\mu_{2}-\\mu^{2})^{1/2}},\\: \\text{where}\\: \\beta=(\\mu,\\mu_{2})\n",
    "$\n",
    "\n",
    "Let $f(\\beta)$ denote the Sharpe ratio where $\\beta$ is a vector of parameters \n",
    "consisting of the mean and the second moment ($\\mu,\\mu_{2}$). The derivatives are then\n",
    "\n",
    "$\n",
    "\\frac{\\partial f(\\beta)}{\\partial\\beta^{\\prime}}  = \\left[\n",
    "\\begin{array}[c]{cc}\n",
    "\\frac{\\mu_{2}}{(\\mu_{2}-\\mu^{2})^{3/2}} & \\frac{-\\mu}{2(\\mu_{2}-\\mu^{2})^{3/2}}\n",
    "\\end{array}\n",
    "\\right]  \n",
    "$\n",
    "\n",
    "For information on numerical derivatives, see the \"integration\" chapter of my *Julia Tutorial* (it contains also material on numerical derivatives)."
   ]
  },
  {
   "cell_type": "code",
   "execution_count": 5,
   "metadata": {},
   "outputs": [
    {
     "data": {
      "text/plain": [
       "SRFn"
      ]
     },
     "execution_count": 5,
     "metadata": {},
     "output_type": "execute_result"
    }
   ],
   "source": [
    "\"\"\"\n",
    "    SRFn(par)\n",
    "\n",
    "Calculate the Sharpe ratio from the mean and 2nd (uncentered) moment\n",
    "\n",
    "# Input\n",
    "- `par::Vector`: 2-vector with [μ,μ₂]\n",
    "\n",
    "\"\"\"\n",
    "function SRFn(par)\n",
    "  (μ,μ₂) = (par[1],par[2])          #E(Z),E(Z^2)\n",
    "  s2 = μ₂ - μ^2\n",
    "  SR = μ/sqrt(s2)\n",
    "  df = hcat(μ₂/(μ₂ - μ^2)^(3/2), -μ/(2*(μ₂ - μ^2)^(3/2)))     #Jacobian of SR, 1x2\n",
    "  return SR, df\n",
    "end"
   ]
  },
  {
   "cell_type": "code",
   "execution_count": 6,
   "metadata": {},
   "outputs": [
    {
     "name": "stdout",
     "output_type": "stream",
     "text": [
      "Sharpe ratio from parameters and direct:      0.131     0.131\n",
      "\n",
      "\u001b[34m\u001b[1mDerivatives of Sharpe ration function wrt:\u001b[22m\u001b[39m\n",
      "         μ        μ₂\n",
      "     0.221    -0.003\n",
      "\n"
     ]
    }
   ],
   "source": [
    "(SR,df) = SRFn([μ,μ₂])\n",
    "\n",
    "printlnPs(\"Sharpe ratio from parameters and direct: \",SR,mean(x)/std(x))\n",
    "\n",
    "printblue(\"\\nDerivatives of Sharpe ration function wrt:\")\n",
    "printmat(df,colNames=momNames)"
   ]
  },
  {
   "cell_type": "markdown",
   "metadata": {},
   "source": [
    "## Applying the Delta Method to the Sharpe Ratio\n",
    "\n",
    "\n",
    "Recall that if\n",
    "\n",
    "$\n",
    "\\sqrt{T}(\\hat{\\beta}-\\beta_{0})\\overset{d}{\\rightarrow}N(0,V_{k\\times k})  ,\n",
    "$\n",
    "\n",
    "then the distribution of the function $f(\\hat{\\beta})$ is\n",
    "\n",
    "$\n",
    "\\sqrt{T}[f(\\hat{\\beta})-f(\\beta_{0})] \\overset{d}{\\rightarrow}N(0,\\Lambda_{q\\times q})  \n",
    "$\n",
    "\n",
    "with \n",
    "\n",
    "$\n",
    "\\Lambda = \\frac{\\partial f(\\beta_{0})}{\\partial\\beta^{\\prime}} \n",
    "V \n",
    "\\frac{\\partial f(\\beta_{0}) ^{\\prime}}{\\partial\\beta}, \\: \n",
    "\\text{where } \\: \n",
    "\\frac{\\partial f(\\beta)}{\\partial\\beta^{\\prime}} = \n",
    "\\left[\n",
    "\\begin{array}[c]{ccc}\n",
    "\\frac{\\partial f_{1}(\\beta)}{\\partial\\beta_{1}} & \\cdots &\\frac{\\partial f_{1}(\\beta)}{\\partial\\beta_{k}} \\\\\n",
    "\\vdots & \\ddots & \\vdots \\\\\n",
    "\\frac{\\partial f_{q}(\\beta)  }{\\partial\\beta_{1}} & \\cdots & \\frac{\\partial f_{q}(\\beta)}{\\partial\\beta_{k}}\n",
    "\\end{array}\n",
    "\\right]  _{q\\times k}\n",
    "$"
   ]
  },
  {
   "cell_type": "code",
   "execution_count": 7,
   "metadata": {},
   "outputs": [
    {
     "name": "stdout",
     "output_type": "stream",
     "text": [
      "\n",
      "\u001b[34m\u001b[1mSR and its Std:\u001b[22m\u001b[39m\n",
      "        SR   Std(SR)\n",
      "     0.131     0.054\n",
      "\n",
      "\u001b[34m\u001b[1mSR and 90% conf band: \u001b[22m\u001b[39m\n",
      "                  SR      5th percentile     95th percentile\n",
      "               0.131               0.042               0.220\n",
      "\n"
     ]
    }
   ],
   "source": [
    "Std_SR = sqrt((df*V*df'/T)[])  #[] to convert from 1x1 matrix to scalar\n",
    "\n",
    "printblue(\"\\nSR and its Std:\")\n",
    "printmat([SR Std_SR],colNames=[\"SR\",\"Std(SR)\"])\n",
    "\n",
    "printblue(\"SR and 90% conf band: \")\n",
    "printmat([SR (SR-1.65*Std_SR) (SR+1.65*Std_SR)],colNames=[\"SR\",\"5th percentile\",\"95th percentile\"],width=20)"
   ]
  },
  {
   "cell_type": "markdown",
   "metadata": {
    "collapsed": true
   },
   "source": [
    "# Newey-West\n",
    "\n",
    "Let $g_t$ be a vector of data series (or moment conditions).\n",
    "\n",
    "To calculate the Newey-West covariance matrix, we first need the\n",
    "autocovariance matrices $\\Omega_{s}=\\text{Cov}(g_{t},g_{t-s})  $, \n",
    "which is estimated as \n",
    "$ \n",
    "\\sum_{t=s+1}^{T} (g_{t}-\\bar{g})(g_{t-s}-\\bar{g})^{\\prime}/T.\n",
    "$\n",
    "\n",
    "Then we form a linear\n",
    "combination (with tent-shaped weights) of those autocovariance matrices (from\n",
    "lag $-m$ to $m$), or equivalently\n",
    "\n",
    "$\n",
    "\\text{Cov}(\\sqrt{T}\\bar{g})  = \n",
    "\\Omega_{0} + \\sum_{s=1}^{m}( 1-\\frac{s}{m+1})  \n",
    "(\\Omega_{s}+\\Omega_{s}^{\\prime}).\n",
    "$\n",
    "\n",
    "The cells below illustrate this by estimating the std of a sample average in different ways. "
   ]
  },
  {
   "cell_type": "code",
   "execution_count": 8,
   "metadata": {
    "scrolled": true
   },
   "outputs": [
    {
     "data": {
      "text/plain": [
       "NWFn"
      ]
     },
     "execution_count": 8,
     "metadata": {},
     "output_type": "execute_result"
    }
   ],
   "source": [
    "\"\"\"\n",
    "    NWFn(g0,m=0)\n",
    "\n",
    "Calculates covariance matrix of sqrt(T)*sample average.\n",
    "\n",
    "# Usage\n",
    "S = NWFn(g0,m)\n",
    "\n",
    "# Input\n",
    "- `g0::Array`: Txq array of q moment conditions\n",
    "- `m:int`: scalar, number of lags to use\n",
    "\n",
    "# Output\n",
    "- `S::Array`: qxq covariance matrix\n",
    "\n",
    "\"\"\"\n",
    "function NWFn(g0,m=0)\n",
    "\n",
    "  T = size(g0,1)                    #g0 is Txq\n",
    "  m = min(m,T-1)                    #number of lags\n",
    "\n",
    "  g = g0 .- mean(g0,dims=1)         #normalizing to Eg=0\n",
    "\n",
    "  S = g'g/T                         #(qxT)*(Txq)\n",
    "  for s = 1:m\n",
    "    Gamma_s = g[s+1:T,:]'g[1:T-s,:]/T   #same as Sum[g(t)*g(t-s)',t=s+1,T]\n",
    "    S       = S  +  ( 1 - s/(m+1) ) * (Gamma_s + Gamma_s')\n",
    "  end\n",
    "\n",
    "  return S\n",
    "\n",
    "end"
   ]
  },
  {
   "cell_type": "markdown",
   "metadata": {},
   "source": [
    "To illustrate the importance of accounting for the autocorrelations, the next cell simulates two time series with very different persistence and then calculates the traditional (assuming iid) and NW standard deviations for the sample average."
   ]
  },
  {
   "cell_type": "code",
   "execution_count": 9,
   "metadata": {},
   "outputs": [
    {
     "name": "stdout",
     "output_type": "stream",
     "text": [
      "\u001b[34m\u001b[1mStd(of average) according to an iid assumption and NW:\u001b[22m\u001b[39m\n",
      "\n",
      "              Series 1  Series 2\n",
      "assuming iid     1.410     0.565\n",
      "NW               4.479     0.513\n",
      "\n"
     ]
    }
   ],
   "source": [
    "T = 300                 #simulate two AR(1) process\n",
    "g = [randn(1,2)*10;zeros(T-1,2)]\n",
    "for t = 2:T\n",
    "    g[t,1] = 0.90*g[t-1,1] + randn()*10         #high autocorrelation\n",
    "    g[t,2] = 0.00*g[t-1,2] + randn()*10         #iid\n",
    "end\n",
    "\n",
    "Std_iid = sqrt.(var(g,dims=1)/T)\n",
    "Std_NW  = sqrt.(diag(NWFn(g,15)/T))\n",
    "xut     = [Std_iid; Std_NW']\n",
    "\n",
    "printblue(\"Std(of average) according to an iid assumption and NW:\\n\")\n",
    "printmat(xut,colNames=[\"Series 1\",\"Series 2\"],rowNames=[\"assuming iid\",\"NW\"])"
   ]
  },
  {
   "cell_type": "code",
   "execution_count": null,
   "metadata": {},
   "outputs": [],
   "source": []
  }
 ],
 "metadata": {
  "@webio": {
   "lastCommId": null,
   "lastKernelId": null
  },
  "anaconda-cloud": {},
  "kernelspec": {
   "display_name": "Julia 1.6.1",
   "language": "julia",
   "name": "julia-1.6"
  },
  "language_info": {
   "file_extension": ".jl",
   "mimetype": "application/julia",
   "name": "julia",
   "version": "1.6.1"
  }
 },
 "nbformat": 4,
 "nbformat_minor": 1
}
